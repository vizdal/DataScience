{
 "cells": [
  {
   "cell_type": "code",
   "execution_count": 153,
   "metadata": {},
   "outputs": [
    {
     "data": {
      "image/png": "[encoded data removed]",
      "text/plain": [
       "<matplotlib.figure.Figure at 0x24375881748>"
      ]
     },
     "metadata": {},
     "output_type": "display_data"
    }
   ],
   "source": [
    "from sklearn.datasets import fetch_mldata\n",
    "mnist = fetch_mldata('MNIST original')\n",
    "fig=plt.figure(figsize=(28,28))\n",
    "index = 1\n",
    "for i in range(0,70000,15000):\n",
    "    reshaped_array = mnist.data[i].reshape(28,28)\n",
    "    fig.add_subplot(1,5, index)\n",
    "    plt.imshow(reshaped_array)\n",
    "    index += 1"
   ]
  },
  {
   "cell_type": "code",
   "execution_count": 167,
   "metadata": {},
   "outputs": [
    {
     "name": "stdout",
     "output_type": "stream",
     "text": [
      "[1.0, 0.9666666666666667, 0.9666666666666667, 0.9666666666666667, 1.0]\n",
      "Accuracy on iris data using SVM: 0.9800 (+/- 0.0163)\n"
     ]
    }
   ],
   "source": [
    "import numpy as np\n",
    "import matplotlib.pyplot as plt\n",
    "from sklearn import svm\n",
    "\n",
    "iris_data = np.loadtxt('iris.data',delimiter=',')\n",
    "n = 5 # Total number of folds\n",
    "result = []\n",
    "for iter in range(0,n):\n",
    "    x_test = iris_data[iter::n,0:4]\n",
    "    y_test = iris_data[iter::n,4:]\n",
    "    dataset_train = np.delete(iris_data, list(range(iter, iris_data.shape[0], n)), axis=0)\n",
    "    x_train = dataset_train[:,0:4]\n",
    "    y_train = dataset_train[:,4:]\n",
    "    model = svm.SVC(kernel='linear')\n",
    "    model.fit(x_train,y_train.ravel())\n",
    "    y_predicted=model.predict(x_test)\n",
    "    result.append(np.mean(y_test.transpose() == y_predicted))\n",
    "print(result)\n",
    "print(\"Accuracy on iris data using SVM: %0.4f (+/- %0.4f)\" % (np.mean(result), np.std(result)))"
   ]
  },
  {
   "cell_type": "code",
   "execution_count": 202,
   "metadata": {},
   "outputs": [
    {
     "name": "stdout",
     "output_type": "stream",
     "text": [
      "[0.9666666666666667, 0.9666666666666667, 0.9, 0.9666666666666667, 0.9333333333333333]\n",
      "Accuracy on iris data using RF: 0.9467 (+/- 0.0267)\n"
     ]
    }
   ],
   "source": [
    "import numpy as np\n",
    "import matplotlib.pyplot as plt\n",
    "from sklearn import svm\n",
    "from sklearn.ensemble import RandomForestClassifier\n",
    "\n",
    "iris_data = np.loadtxt('iris.data',delimiter=',')\n",
    "n = 5 # Total number of folds\n",
    "result = []\n",
    "for iter in range(0,n):\n",
    "    x_test = iris_data[iter::n,0:4]\n",
    "    y_test = iris_data[iter::n,4:]\n",
    "    dataset_train = np.delete(iris_data, list(range(iter, iris_data.shape[0], n)), axis=0)\n",
    "    x_train = dataset_train[:,0:4]\n",
    "    y_train = dataset_train[:,4:]\n",
    "    model = RandomForestClassifier(n_estimators=14)\n",
    "    model.fit(x_train,y_train.ravel())\n",
    "    y_predicted=model.predict(x_test)\n",
    "    result.append(np.mean(y_test.transpose() == y_predicted))\n",
    "print(result)\n",
    "print(\"Accuracy on iris data using RF: %0.4f (+/- %0.4f)\" % (np.mean(result), np.std(result)))"
   ]
  },
  {
   "cell_type": "code",
   "execution_count": 184,
   "metadata": {},
   "outputs": [],
   "source": [
    "from sklearn import metrics, model_selection \n",
    "wine_train = np.loadtxt('wine.train',delimiter=',')\n",
    "wine_test = np.loadtxt('wine.test',delimiter=',')\n",
    "x_train = wine_train[:,1:]\n",
    "y_train = np.int32(wine_train[:,0:1])\n",
    "x_test = wine_test[:,1:]"
   ]
  },
  {
   "cell_type": "code",
   "execution_count": 191,
   "metadata": {},
   "outputs": [
    {
     "name": "stdout",
     "output_type": "stream",
     "text": [
      "Accuracy on wine data: 0.9500 (+/- 0.0764)\n"
     ]
    }
   ],
   "source": [
    "#Evaluating a linear SVM model \n",
    "CV=10\n",
    "scores = model_selection.cross_val_score(svm.SVC(kernel='poly'), x_train, y_train.ravel(), cv=CV)\n",
    "\n",
    "print(\"Accuracy on wine data: %0.4f (+/- %0.4f)\" % (scores.mean(), scores.std()))\n",
    "#Maximum accuracy seen 95% with deviation of 7.64%"
   ]
  },
  {
   "cell_type": "code",
   "execution_count": 196,
   "metadata": {},
   "outputs": [
    {
     "name": "stdout",
     "output_type": "stream",
     "text": [
      "Accuracy on wine data: 0.9667 (+/- 0.0553)\n"
     ]
    }
   ],
   "source": [
    "scores = model_selection.cross_val_score(RandomForestClassifier(n_estimators=25), x_train, y_train.ravel(), cv=CV)\n",
    "print(\"Accuracy on wine data: %0.4f (+/- %0.4f)\" % (scores.mean(), scores.std()))\n",
    "#Maximum average Accuracy seen 96.67% with standard deviation 5.53%"
   ]
  },
  {
   "cell_type": "code",
   "execution_count": 201,
   "metadata": {},
   "outputs": [
    {
     "name": "stdout",
     "output_type": "stream",
     "text": [
      "(120, 12)\n",
      "Accuracy on wine data: 0.4417 (+/- 0.1539)\n"
     ]
    }
   ],
   "source": [
    "#MLPClassifier Evaluation\n",
    "from sklearn.neural_network import MLPClassifier\n",
    "\n",
    "print(x_train.shape)\n",
    "scores = model_selection.cross_val_score(MLPClassifier(hidden_layer_sizes=(120,120,120)), x_train, y_train.ravel(), cv=CV)\n",
    "print(\"Accuracy on wine data: %0.4f (+/- %0.4f)\" % (scores.mean(), scores.std()))\n",
    "#Max average accuracy seen 45.00% with a standard deviation of 14.53%"
   ]
  },
  {
   "cell_type": "code",
   "execution_count": 199,
   "metadata": {},
   "outputs": [
    {
     "name": "stdout",
     "output_type": "stream",
     "text": [
      "(58, 12)\n",
      "(58,)\n"
     ]
    }
   ],
   "source": [
    "#Choosing Random forest classifier and training the dataset\n",
    "import pandas as panda\n",
    "model = RandomForestClassifier(n_estimators=24)\n",
    "model.fit(x_train,y_train.ravel())\n",
    "print(x_test.shape)\n",
    "y_predicted=model.predict(x_test)\n",
    "print(y_predicted.shape)\n",
    "panda.DataFrame(y_predicted, columns=['wine_class']).to_csv('wine_predict.csv',index=False) #To write to CSV"
   ]
  },
  {
   "cell_type": "code",
   "execution_count": null,
   "metadata": {},
   "outputs": [],
   "source": []
  }
 ],
 "metadata": {
  "kernelspec": {
   "display_name": "python-3.6",
   "language": "python",
   "name": "tensorflow"
  },
  "language_info": {
   "codemirror_mode": {
    "name": "ipython",
    "version": 3
   },
   "file_extension": ".py",
   "mimetype": "text/x-python",
   "name": "python",
   "nbconvert_exporter": "python",
   "pygments_lexer": "ipython3",
   "version": "3.6.4"
  }
 },
 "nbformat": 4,
 "nbformat_minor": 2
}
